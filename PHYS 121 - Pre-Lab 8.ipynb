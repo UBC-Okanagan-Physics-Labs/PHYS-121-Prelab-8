{
 "cells": [
  {
   "cell_type": "markdown",
   "id": "aa3c17b0",
   "metadata": {
    "deletable": false,
    "editable": false,
    "tags": []
   },
   "source": [
    "# <div style=\"background-color:rgba(204, 229, 255, 0.5); text-align:center; vertical-align: middle; padding:40px 0; margin-top:30px\"><span style=\"color:rgba(0, 76, 153, 1);\">**PHYS 121 Pre-Lab #8**<span style=\"color:red\"> $\\to$ (4 possible marks)</span> </span></div> \n",
    "\n",
    "<font size =\"4\"><span style=\"color:purple\">We recommend that you complete this notebook using either the [Google Chrome](https://www.google.com/intl/en_ca/chrome/) or [Mozilla Firefox](https://www.mozilla.org/en-CA/firefox/new/) browser.  Chrome and Firefox are both available for Windows, Mac, and Linux operating systems.  The PHYS 121 Jupyter notebooks should work in other browsers, but we have specifically verfied that they work well in both Chrome and Firefox.</span></font>\n",
    "\n",
    "# Video Analysis Using Tracker"
   ]
  },
  {
   "cell_type": "markdown",
   "id": "fc4bdbef",
   "metadata": {
    "deletable": false,
    "editable": false,
    "tags": []
   },
   "source": [
    "***\n",
    "## Learning Objectives:\n",
    "* <b><span style=\"color:rgba(0, 153, 76, 1);\">Use Tracker to extract data from a video and then analyze the data in a Jupyter notebook.  </span></b>\n",
    "* <b><span style=\"color:rgba(0, 153, 76, 1);\"> Review the concepts of circular motion and simple harmonic motion. </span></b>"
   ]
  },
  {
   "cell_type": "markdown",
   "id": "6f26316d",
   "metadata": {
    "deletable": false,
    "editable": false,
    "tags": []
   },
   "source": [
    "***\n",
    "## Autograding:\n",
    "The PHYS 121 Pre-lab assignments and Labs will make use of some autograding.  To make the autograding work, the two cells below need to be executed.  The first one installs the required packages and the second imports required packages/modules.  If 'PHYS121.Installer()' reports that some functions have been installed, the user should execute the PHYS121.Installer() cell a second time.  The second time the installer function is run, it should report that **\"All packages already installed. Please proceed\"**.\n",
    "\n",
    "If necessary, the kernel can be restarted by selecting **Kernel** $\\to$ **Restart Kernel** from the menu options at to the top of the page.  Here is a <a href = \"https://raw.githubusercontent.com/UBC-Okanagan-Physics-Labs/PHYS-121-images/main/general/gifs/restartKernel.gif\">GIF</a> showing how to restart the kernel.\n",
    "\n",
    "The 'PHYS121.Installer()' command requires the file 'PHYS121.py', which you should see included in the list of files along the left-hand side of the screen."
   ]
  },
  {
   "cell_type": "code",
   "execution_count": null,
   "id": "927708e9",
   "metadata": {
    "deletable": false,
    "editable": false,
    "tags": []
   },
   "outputs": [],
   "source": [
    "# Import PHYS121.py and then run the installer function.\n",
    "import PHYS121\n",
    "PHYS121.Installer()"
   ]
  },
  {
   "cell_type": "code",
   "execution_count": null,
   "id": "1f0259bf",
   "metadata": {
    "deletable": false,
    "editable": false,
    "tags": []
   },
   "outputs": [],
   "source": [
    "# Initialize Otter\n",
    "import otter\n",
    "grader = otter.Notebook(\"PHYS 121 - Pre-Lab 8.ipynb\")"
   ]
  },
  {
   "cell_type": "markdown",
   "id": "feae891a",
   "metadata": {
    "deletable": false,
    "editable": false,
    "tags": []
   },
   "source": [
    "***\n",
    "## Import Modules:\n",
    "Execute the cell below to import a number of useful pre-built Python modules that will be used in the PHYS 121 pre-labs and labs."
   ]
  },
  {
   "cell_type": "code",
   "execution_count": null,
   "id": "59751bb4",
   "metadata": {
    "deletable": false,
    "editable": false
   },
   "outputs": [],
   "source": [
    "import numpy as np\n",
    "import matplotlib.pyplot as plt\n",
    "import pandas as pd\n",
    "from matplotlib.pyplot import cm # used to generate a sequence of colours for plotting\n",
    "from scipy.optimize import curve_fit\n",
    "from IPython.display import HTML as html_print\n",
    "from IPython.display import display, Markdown, Latex\n",
    "from IPython.display import YouTubeVideo\n",
    "import math"
   ]
  },
  {
   "cell_type": "code",
   "execution_count": null,
   "id": "adbd3ceb",
   "metadata": {
    "deletable": false,
    "editable": false
   },
   "outputs": [],
   "source": [
    "PHYS121.graderCheck(['PHYS121'], ['PHYS121'], grader.check('q0.1'))"
   ]
  },
  {
   "cell_type": "markdown",
   "id": "e69b2030",
   "metadata": {
    "deletable": false,
    "tags": []
   },
   "source": [
    "# <div style=\"background-color:rgba(255, 204, 255, 0.5); text-align:center; vertical-align: middle; padding:40px 0; margin-top:30px\"><span style=\"color:rgba(102, 0, 204, 1);\">Part 1 - Introduction</span></div>\n",
    "\n",
    "For your $8^\\mathrm{th}$ and final lab, you will continue your investigations of the deep connections between electricity and magnetism by observing what happens when a strong permanent magnet slides down the length of a strip of copper. You'll be using a free software package called **Tracker** to quantitatively analyze video recordings of the magnet's motion. Tracker is equipped with an **auto-tracker** function that allows you to set up the software to automatically track the position of the object of interest - rather than manually clicking on the object for each frame of the video. This Pre-Lab is designed to show you how to use Tracker while reviewing the concepts of rotational motion and simple harmonic motion. \n",
    "\n",
    "The review of rotational/circular motion is timely because, as we'll see shortly in the PHYS 121 lectures, charged particles moving through a uniform magnetic field undergo circular motion.  In fact, the aurora borealis or northern lights, involve charged particles (that originate from the upper atmosphere of the sun) spiralling around the magnetic field lines of the Earth.  For anyone interested, <a href = \"http://hyperphysics.phy-astr.gsu.edu/hbase/atmos/aurora.html\">HyperPhysics</a> has a nice introduction to the physics of aurora. \n",
    "\n",
    "<p>\n",
    "<center>\n",
    "<img src=\"https://raw.githubusercontent.com/UBC-Okanagan-Physics-Labs/PHYS-121-images/main/Pre-Lab-8/images/northernLights.jpg\" width=\"1000\"/><br>\n",
    "<b>Fig. 1: The northern lights in Churchill, Manitoba in March, 2015. Image taken from the <a href=\"https://commons.wikimedia.org/wiki/File:Dancing_and_swirling_-_Flickr_-_manumilou.jpg\">Wikimedia Commons</a> collection.</b>\n",
    "</center>\n",
    "</p>\n",
    "\n",
    "Recall from Labs #1 and 2, that we studied the period of a pendulum and found that it has a weak dependence on the amplitude of the oscillations.  Specifically, we found that the period increases when the oscillation amplitude is increased.  For true *simple harmonic motion* (SHM), the period of the oscillation is completely **independent** of the amplitude of the motion.  As a nice way to bookend the PHYS 121 lab with investigations of SHM, we'll study a simple example of true SHM in this pre-lab.  \n",
    "\n",
    "The pre-lab will analyze a video called 'PHYS121 turntable.mp4'.  This video is among the files listed along the left-had side of the screen.  You can download this file by right-clicking on the file name and selecting \"<img src=\"https://raw.githubusercontent.com/UBC-Okanagan-Physics-Labs/PHYS-121-images/main/Pre-Lab-8/images/downlaod.png\" alt=\"Download Icon\" style=\"width: 0.8%; height: auto; display: inline;\" /> Download\".  A longer version of the video that you'll be analyzing is also avaialbe on YouTube."
   ]
  },
  {
   "cell_type": "code",
   "execution_count": null,
   "id": "8b59dcf4-2743-4e81-bd23-859e20adf8c0",
   "metadata": {},
   "outputs": [],
   "source": [
    "# Press shift + enter to load the YouTube video of the turntable.\n",
    "YouTubeVideo(\"77ENqovcq9I\", width = 500)"
   ]
  },
  {
   "cell_type": "markdown",
   "id": "b5820ada-953b-4108-8aa9-3ce256acd739",
   "metadata": {
    "deletable": false,
    "editable": false,
    "tags": []
   },
   "source": [
    "The video shows a vinyl record rotating at a constant rate on a turntable.  A poker chip and a twoonie have also been placed on the record.  Small dots have been drawn at the centre of each object.  The dot will be used to help track the positions of the objects as a function of time.  Note that the poker chip and twoonie are different distances from the rotation axis of the turntable.  **Figure 2** is an animated GIF of a black point undergoing uniniform circular motion on a circule of radius $r=1$.  The blue and red points show the instantaneous $x$ and $y$ positions of the black point, respectively.  Both the blue and red points are undergoing SHM.\n",
    "\n",
    "<p>\n",
    "<center>\n",
    "<img src=\"https://raw.githubusercontent.com/UBC-Okanagan-Physics-Labs/PHYS-121-images/main/Pre-Lab-8/gifs/scanim.gif\" width=\"350\"/><br>  \n",
    "<b>Fig. 2: Demonstration of the harmonic oscillation of the $x$ and $y$ components of an object undergoing uniform circular motion. GIF taken from the <a href=\"https://commons.wikimedia.org/wiki/File:Sine_and_cosine_animation.gif\">Wikimedia Commons</a> collection.  </b></center>\n",
    "</p>\n",
    "\n",
    "First, you will need to download and install Tracker from [this link](https://physlets.org/tracker/). The program is free, compatible with Windows, Mac, and Linux, and it doesn't require extensive computational resources to run. There is an [online version](https://physlets.org/tracker/trackerJS/index_ff.html) of Tracker that doesn't require any installation, but we've found that some of the features don't always work as expected, it is slow to respond, and it takes much longer to complete the auto-tracking process.  We recommend using a version of Tracker that is installed on your own machine.  However, if you decide to use the online version, we've had the most success when using the **Firefox** browser.\n",
    "\n",
    "Once you have tracker installed and the video downloaded, follow the procedure outlined in the GIFs below to collect your data."
   ]
  },
  {
   "cell_type": "markdown",
   "id": "ae23f518",
   "metadata": {
    "deletable": false,
    "editable": false,
    "tags": []
   },
   "source": [
    "***\n",
    "#### Import the video into Tracker (<a href = \"https://youtu.be/MrAZ1PbB_ek\">YouTube link</a>)\n",
    "\n",
    "First, import 'PHYS121 turntable.mp4' into Tracker.  If necessary, you can apply a 'Rotate' filter to change the orientation of the video. \n",
    "<center>\n",
    "<img src=\"https://github.com/UBC-Okanagan-Physics-Labs/PHYS-121-images/blob/main/Pre-Lab-8/gifs/import%20video.gif?raw=true\" width=\"750\"/>\n",
    "</center>\n",
    "\n",
    "***\n",
    "#### Calibrate Tracker (<a href = \"https://youtu.be/6cvNUosIac0\">YouTube link</a>)\n",
    "\n",
    "Tracker needs to be provided with a known length in order to calibrate the positions of the tracked objects.  The blue ruler in the video is $30\\rm\\ cm$ long.  The scale on the ruler can't be read (even when zoomed in), so we recommend placing the ends of your 'calibration stick' where the scale of the ruler starts and ends.  In the GIF below, the scale on the left side of the ruler is in $\\rm cm$ and the scale on the right side of the ruler is in $\\rm inches$.\n",
    "\n",
    "**Note**: In the online version of Tracker, even after changing the units to $\\rm cm$, the length displayed next to the 'calibration stick' still shows $\\rm m$.  However, the positions of the tracked objects are still collected in units of $\\rm cm$. \n",
    "<center>\n",
    "<img src=\"https://github.com/UBC-Okanagan-Physics-Labs/PHYS-121-images/blob/main/Pre-Lab-8/gifs/set%20calibration.gif?raw=true\" width=\"750\"/>\n",
    "</center>\n",
    "\n",
    "***\n",
    "#### Define your coordinate system (<a href = \"https://youtu.be/XlbKkyvWlr4\">YouTube link</a>)\n",
    "\n",
    "Tracker will measure the postions of your objects relative the position of the orgin of the coordinate system being used.  For the pre-lab, it is important that the orgin of the coordinate system coincides with the rotation axis of the turntable.  You can also manipulate the orientation/angle of the axes.  The angle used is not important for the pre-lab, so you can change the orientation to be whatever you like (or leave it as the default).  In Lab #8, being able to set the orientation may be a useful feature.\n",
    "<center>\n",
    "<img src=\"https://github.com/UBC-Okanagan-Physics-Labs/PHYS-121-images/blob/main/Pre-Lab-8/gifs/camtasia%20-%20set%20axes.gif?raw=true\" width=\"750\"/>\n",
    "</center>\n",
    "\n",
    "\n",
    "***\n",
    "#### Set start and stop indicators (<a href = \"https://youtu.be/O5_AMa4OL9s\">YouTube link</a>)\n",
    "\n",
    "Tracker allows you to analyze a segment of a video.  Slide the start and stop indicators to the desired times, see **Fig. 3**.  For example, you could choose to start and stop the video when the coin and chip are aligned with the $x$-axis.  The start and stop times are not important for the pre-lab, as long as the objects complete at least three full oscillations within the segment of the video that is analyzed.  In Lab #8 being able to select that start and stop times may prove to be very convenient.\n",
    "\n",
    "**Note**: In the online version of Tracker, we have found that the start and stop indictors sometimes disappear (but not always)! \n",
    "<center>\n",
    "<img src=\"https://github.com/UBC-Okanagan-Physics-Labs/PHYS-121-images/blob/main/Pre-Lab-8/gifs/camtasia%20-%20set%20start%20and%20stop.gif?raw=true\" width=\"750\"/>\n",
    "</center>\n",
    "\n",
    "<p>\n",
    "<center>\n",
    "<img src=\"https://raw.githubusercontent.com/UBC-Okanagan-Physics-Labs/PHYS-121-images/main/Pre-Lab-8/images/startstop1.jpg\" width=\"625\"/><br>  \n",
    "<b>Fig. 3: The stop and stop indicators are loacted inside the blue circles.  These indicators can be slid to the left and right as needed.</b></center>\n",
    "</p>\n",
    "\n",
    "\n",
    "***\n",
    "#### Auto-track the positions of the objects (<a href = \"https://youtu.be/6FhGTUuTIMY\">YouTube link</a>)\n",
    "\n",
    "Use the auto-tracking feature to track the $x$- and $y$-positions of the coin and the poker chip.  You'll have to track each object separately.  The GIF below shows how to track the position of the poker chip.  To tell Tracker which object/detail to track, (for example, the marker point in the centre of the chip), hold down both the **ctrl** and **shift** keys.  This will replace the mouse cursor with a circle.  Click where you want the centre of the circle to be positioned.  This creates a 'Template' that the software searches for and tracks as the video advances.  You can expand the size of circle to make a larger 'Template' image.  You can also expand the size of the square which defines that area that Tracker will search in to try finding a match to the Template image after advancing the video.   \n",
    "\n",
    "If the auto-tracker fails to find a match to the template at any point, it will request user intervention (skip the point, manually select the correct position, or confirm that Tracker's guess is correct).  After this intervention, the auto-tracking should restart.   \n",
    "\n",
    "Follow an identical procedure to track the coin:\n",
    " - First, create a second point mass.  You should now have **mass A** which has already been tracked and **mass B** (not yet tracked).\n",
    " - Make sure the video is back at the correct 'start' time.  Before clicking 'Search', the position of the playback slider should coincide with the 'start' time indicator, as shown in **Fig. 3** above.  If you drag and drop the playback slider to the left of the start time indictor, the slider will automatically move to the correct position/time. \n",
    " - Confirm that the 'Autotracker' window is set to track **mass B**.\n",
    " - Hold down **ctrl** and **shift**, then click on the dot at the centre of the coin.\n",
    " - Click on the 'Search' button in the 'Autotracker' window.\n",
    " \n",
    "<center>\n",
    "<img src=\"https://github.com/UBC-Okanagan-Physics-Labs/PHYS-121-images/blob/main/Pre-Lab-8/gifs/camtasia%20-%20autotrack.gif?raw=true\" width=\"750\"/>\n",
    "</center>\n",
    "    \n",
    "***\n",
    "#### Export the data (<a href = \"https://youtu.be/kxEvWegEKOM\">YouTube link</a>)\n",
    "\n",
    "Finally, you can export the data (time, $x$-position, and $y$-position) for both the **poker chip** and **coin** to the same file.  To do this:\n",
    " - Select File$\\to$Export$\\to$Data...\n",
    " - Change 'Number Format' to 'Full Precision'\n",
    " - Change 'Delimiter' to 'Comma'\n",
    " - Click on 'Tracks' to open a second pop-up window\n",
    " - In the second pop-up window, make sure both **mass A** and **mass B** are selected\n",
    " - Close the second pop-up window and then click on 'Save As...' in the first pop-up window (see **Fig. 4**)\n",
    " - Name your data file **Prelab_8_Data.txt**  \n",
    " \n",
    "Your file must have this **exact** name given above in order for the grading of this pre-lab to work. \n",
    "\n",
    "The GIF below exports data from only a single track, so the data file has only three columns (time, $x$-position, and $y$-position).  The data file that you create and analyze should have five columns: \n",
    " - 1. time (used for both **mass A** and **mass B**)\n",
    " - 2. $x$-position of **mass A**\n",
    " - 3. $y$-position of **mass A**\n",
    " - 4. $x$-position of **mass B**\n",
    " - 5. $y$-position of **mass B**\n",
    " \n",
    "**Note**: We have sometimes found that selecting File$\\to$Export$\\to$Data... does not produce the 'Export Data' pop-up window.  If this happens to you:\n",
    " - Select File$\\to$Save Tab As...\n",
    " - Pick a file name using the default .trk extension\n",
    " - Close Tracker\n",
    " - Re-open Tracker\n",
    " - Open the .trk file that you just saved\n",
    " - Selected File$\\to$Export$\\to$Data... to complete the data export\n",
    " \n",
    "\n",
    "<center>\n",
    "<img src=\"https://github.com/UBC-Okanagan-Physics-Labs/PHYS-121-images/blob/main/Pre-Lab-8/gifs/camtasia%20-%20export%20data.gif?raw=true\" width=\"750\"/>\n",
    "</center>\n",
    "\n",
    "<p>\n",
    "<center>\n",
    "<img src=\"https://raw.githubusercontent.com/UBC-Okanagan-Physics-Labs/PHYS-121-images/main/Pre-Lab-8/images/TrackerExport.jpg\" width=\"500\"/><br>  \n",
    "<b>Fig. 4: Before exporting your data, make sure that both mass A and mass B are selected in the 'Tracks' window.</b></center>\n",
    "</p>"
   ]
  },
  {
   "cell_type": "markdown",
   "id": "2237a4dd",
   "metadata": {
    "deletable": false,
    "editable": false,
    "tags": []
   },
   "source": [
    "***\n",
    "The .read_csv() method in Pandas can also load .txt files with comma-separated data. Use the code provided below to import your **Prelab_8_Data.txt** file into a DataFrame. Ensure that your .txt file has been uploaded to your Pre-Lab 8 folder in your JupyterHub.  If it's not there, simply drag and drop the file into the frame/window along the left-hand side of the screen."
   ]
  },
  {
   "cell_type": "code",
   "execution_count": null,
   "id": "e8f29360",
   "metadata": {
    "deletable": false,
    "editable": false,
    "scrolled": true,
    "tags": []
   },
   "outputs": [],
   "source": [
    "# Force Jupyter to show all of the dataFrame rows.\n",
    "pd.set_option('display.max_rows', None)\n",
    "\n",
    "# Load the data exported from Tracker into a dataFrame called df.\n",
    "df = pd.read_csv(\"Prelab_8_Data.txt\", \n",
    "            header = None, \n",
    "            skiprows = 3, \n",
    "            names=[\"t\",\"xA\", \"yA\", \"xB\",\"yB\"]\n",
    "           )\n",
    "df"
   ]
  },
  {
   "cell_type": "markdown",
   "id": "80c5e2fd",
   "metadata": {
    "deletable": false,
    "editable": false,
    "tags": []
   },
   "source": [
    "<!-- BEGIN QUESTION -->\n",
    "\n",
    "***\n",
    "**<span style=\"color:blue\">Question 1.1:</span>** **<span style=\"color:red\">(2 marks)</span>**\n",
    "\n",
    "The first code cell below generates a plot of $x_A(t)$ and $y_A(t)$ versus time.  In other words, it plots the $x$ and $y$ positions of **mass A** as a function of time on the same graph."
   ]
  },
  {
   "cell_type": "code",
   "execution_count": null,
   "id": "5e6c29e7",
   "metadata": {
    "deletable": false,
    "editable": false,
    "tags": []
   },
   "outputs": [],
   "source": [
    "fig1 = PHYS121.MultiScatter([[df[\"t\"], df[\"xA\"]], \n",
    "                            [df[\"t\"], df[\"yA\"]]], \n",
    "                           xlabel = \"time\", \n",
    "                           ylabel = \"position\"\n",
    "                          )"
   ]
  },
  {
   "cell_type": "markdown",
   "id": "70e34be1-3aac-409b-a916-dc2a200dd96b",
   "metadata": {
    "deletable": false,
    "editable": false,
    "tags": []
   },
   "source": [
    "Following the example above for the syntax of PHYS121.MultiScatter(), generate a second plot with $x_A$ ($x$-position of **mass A**) and $x_B$ ($x$-position of **mass B**) as a function of time.\n",
    "\n",
    "For additional information about the 'MultiScatter()' function, see **Appendix A** near the end of this notebook.   \n",
    "\n",
    "*** Please do not change anything to the left of the equals sign. ***"
   ]
  },
  {
   "cell_type": "code",
   "execution_count": null,
   "id": "a5ef5b4b",
   "metadata": {
    "tags": []
   },
   "outputs": [],
   "source": [
    "fig2 = PHYS121.MultiScatter([[..., ...], \n",
    "                            [..., ...]], \n",
    "                            xlabel = \"time\",\n",
    "                            ylabel = \"position\")"
   ]
  },
  {
   "cell_type": "markdown",
   "id": "11a2d8e1",
   "metadata": {
    "deletable": false,
    "editable": false,
    "tags": []
   },
   "source": [
    "<!-- END QUESTION -->\n",
    "\n",
    "***\n",
    "**<span style=\"color:blue\">Question 1.2:</span>** **<span style=\"color:red\">(1 mark)</span>**\n",
    "\n",
    "Next, we'll use the data you collected to find the radius of each each object's rotational motion.  We can calculate the radius using the $x$ and $y$ positions:\n",
    "\n",
    "$$\n",
    "r = \\sqrt{x^2 + y^2}\n",
    "$$\n",
    "\n",
    "In the cell below, we find the radius of **mass A** for you.\n",
    "\n",
    "After finding the radius for every frame of the video, we can calculate the average and standard error.  Remember that the standard error $\\sigma_\\mu$ is given by the standard deviation $\\sigma$ divided by the square root of the number of trials $N$:\n",
    "\n",
    "$$\n",
    "\\sigma_\\mu = \\frac{\\sigma}{\\sqrt{N}}\n",
    "$$\n",
    "\n",
    "The average, standard deviation, and square root can be calculated using:\n",
    "\n",
    "```python\n",
    "np.average(...)\n",
    "np.std(...)\n",
    "np.sqrt(...)\n",
    "```\n",
    "\n",
    "To find the number of trials $N$, use the `len(...)` commnad to find the number of points in the relevant dataFrame column."
   ]
  },
  {
   "cell_type": "code",
   "execution_count": null,
   "id": "bfa81d3e-210b-4b93-868b-8266794bab43",
   "metadata": {
    "deletable": false,
    "editable": false,
    "scrolled": true,
    "tags": []
   },
   "outputs": [],
   "source": [
    "# Create a new column in the data frame called \"rA\"\n",
    "df[\"rA\"] = np.sqrt(df[\"xA\"]**2 + df[\"yA\"]**2)\n",
    "\n",
    "# Find the average value of rA\n",
    "rA = np.average(df[\"rA\"])\n",
    "drA = np.std(df[\"rA\"])/np.sqrt(len(df[\"rA\"]))\n",
    "print(f\"The average radius of mass A is {rA:.3f} +/- {drA:.3f} cm\") \n",
    "\n",
    "# Display the dataFrame\n",
    "df"
   ]
  },
  {
   "cell_type": "markdown",
   "id": "a78b6151-30ae-41b6-926e-c90ca39ce8eb",
   "metadata": {
    "deletable": false,
    "editable": false,
    "tags": []
   },
   "source": [
    "Following the example above, find the average and standard error for the radius of **mass B**'s circular motion.\n",
    "\n",
    "*** Please do not change anything to the left of the equals sign. ***"
   ]
  },
  {
   "cell_type": "code",
   "execution_count": null,
   "id": "c014465a",
   "metadata": {
    "scrolled": true,
    "tags": []
   },
   "outputs": [],
   "source": [
    "# Create a new column in the data frame called \"rB\"\n",
    "df[\"rB\"] = ...\n",
    "\n",
    "# Find the average value of rB\n",
    "rB = ...\n",
    "drB = ...\n",
    "print(f\"The average radius of mass B is {rB:.3f} +/- {drB:.3f} cm\") \n",
    "\n",
    "# Display the dataFrame\n",
    "df"
   ]
  },
  {
   "cell_type": "code",
   "execution_count": null,
   "id": "77e78fba",
   "metadata": {
    "deletable": false,
    "editable": false
   },
   "outputs": [],
   "source": [
    "PHYS121.graderCheck([df[\"rB\"].to_numpy(), rB, drB], ['df[\"rB\"]', 'rB', 'drB'], grader.check('q1.2'))"
   ]
  },
  {
   "cell_type": "markdown",
   "id": "0f4fea84",
   "metadata": {
    "deletable": false,
    "editable": false,
    "tags": []
   },
   "source": [
    "<!-- BEGIN QUESTION -->\n",
    "\n",
    "***\n",
    "**<span style=\"color:blue\">Question 1.3:</span>** **<span style=\"color:red\">(1 mark)</span>**\n",
    "\n",
    "You have likely noticed from the plots of your data and/or **Fig. 2** that the $x$ and $y$ positions of your objects follow a sinusoidal dependence on time.  In the cell below, we fit the $x_\\mathrm{A}$ versus time data to a function of the form:\n",
    "\n",
    "$$\n",
    "x = A\\sin\\left(\\frac{2\\pi}{T} t +\\phi\\right)\n",
    "\\tag{1}\n",
    "$$\n",
    "\n",
    "The fit parameters are:\n",
    " - the amplitdue $A$\n",
    " - the period $T$\n",
    " - and the phase $\\phi$\n",
    " \n",
    "The phase $\\phi$ is necessary because we have (potentially) started our data collection at an arbitrary time.  In other words, we may not satisfy $x = 0$ when $t = 0$ which would be required by Eq. (1) if we set $\\phi = 0$.\n",
    "\n",
    "In the cell below, we have fit the $x$-posiiton of **mass A** versus time for you. Your task is to repeat this fit for the $x$-position of **mass B**."
   ]
  },
  {
   "cell_type": "code",
   "execution_count": null,
   "id": "e687c08b",
   "metadata": {
    "deletable": false,
    "editable": false,
    "tags": []
   },
   "outputs": [],
   "source": [
    "# Fit the data.\n",
    "ampA, periodA, phiA, dampA, dperiodA, dphiA, figA = PHYS121.Sine(xData = df[\"t\"],\n",
    "                                                                 yData = df[\"xA\"],\n",
    "                                                                 xlabel = 'time',\n",
    "                                                                 ylabel = 'position',\n",
    "                                                                 xUnits = 's',\n",
    "                                                                 yUnits = 'cm')\n",
    "\n",
    "# Report the best-fit value for the frequency. \n",
    "print(f\"The oscillation period of mass A is {periodA:.6f} +/- {dperiodA:.6f} s\") "
   ]
  },
  {
   "cell_type": "markdown",
   "id": "a8547e33-8a8d-4e19-8d08-2d56be04c38a",
   "metadata": {
    "deletable": false,
    "editable": false,
    "tags": []
   },
   "source": [
    "Following the example above, fit the $x$ versus time data for **mass B** to a sine function and determine the oscillation period.\n",
    "\n",
    "For additional information about the 'Sine()' function, see **Appendix B** near the end of this notebook. \n",
    "\n",
    "*** Please do not change anything to the left of the equals sign. ***"
   ]
  },
  {
   "cell_type": "code",
   "execution_count": null,
   "id": "1ec9b34d-8f3e-4297-80fe-94d99e670fc4",
   "metadata": {
    "tags": []
   },
   "outputs": [],
   "source": [
    "#Fit the data.\n",
    "ampB, periodB, phiB, dampB, dperiodB, dphiB, figB = PHYS121.Sine(xData = ...,\n",
    "                                                                 yData = ...,\n",
    "                                                                 xlabel = 'time',\n",
    "                                                                 ylabel = 'position',\n",
    "                                                                 xUnits = 's',\n",
    "                                                                 yUnits = 'cm')\n",
    "\n",
    "# Report the best-fit value for the frequency. \n",
    "print(f\"The oscillation period of mass B is {periodB:.6f} +/- {dperiodB:.6f} s\") "
   ]
  },
  {
   "cell_type": "markdown",
   "id": "9ae3fe5d-f6f2-409c-a747-945a83dc938e",
   "metadata": {
    "deletable": false,
    "editable": false,
    "tags": []
   },
   "source": [
    "<!-- END QUESTION -->\n",
    "\n",
    "### Summary\n",
    "\n",
    "You've hopefully seen that, even though the oscillations of the $x$-positons for **mass A** and **mass B** have very different amplitudes (nearly a fuctor of two difference), the oscillation periods are nearly identical.  An oscillation period that is independent of the oscillation amplitude is one of the signatures of simple harmonic motion.\n",
    "\n",
    "The $x$- and $y$-positions of an object undergoing uniform circular motion are examples of simple harmonic motion.  The simple pendulum that we studied in Labs #1 and 2 exhibited an osicllation period that had a weak, but detectable, dependence on the oscillation amplitude.  Therefore, the pendulum only *approximates* simple harmonic motion.  Recall that, when analyzing the simple pendulum, we made the simplifying approximation that $\\sin\\theta\\approx\\theta$.  For small angles ($\\theta<15^\\circ$), this approximation is very good and the pendulum very closely approximates a simple harmonic oscillator.  However, the approximation begins to break down for larger angles and the amplitude-dependent oscillation period reveals itself."
   ]
  },
  {
   "cell_type": "markdown",
   "id": "98d923fe",
   "metadata": {
    "deletable": false,
    "editable": false,
    "tags": []
   },
   "source": [
    "# <div style=\"background-color:rgba(255, 204, 255, 0.5); text-align:center; vertical-align: middle; padding:40px 0; margin-top:30px\"><span style=\"color:rgba(102, 0, 204, 1);\">Part 2 - Feedback and Submission</span></div>"
   ]
  },
  {
   "cell_type": "markdown",
   "id": "3b3fc4a9",
   "metadata": {
    "deletable": false,
    "editable": false,
    "tags": []
   },
   "source": [
    "<!-- BEGIN QUESTION -->\n",
    "\n",
    "**<span style=\"color:blue\">Question 2.1:</span>**  \n",
    "\n",
    "We welcome your feedback on the PHYS 121 pre-labs!  Please feel free to include any comments you have about this pre-lab in the cell below.  Your comments will be taken into consideration when revising/improving the PHYS 121 labs and pre-labs.  You can suggest improvements, point out anything that was unclear, comment on the strengths and weaknesses of the pre-lab, ...\n",
    "\n",
    "This question is optional and will have no impact on your pre-lab or lab grade."
   ]
  },
  {
   "cell_type": "markdown",
   "id": "fbbd96c9",
   "metadata": {},
   "source": [
    "***\n",
    "**<span style=\"color:blue\">Answer 2.1:</span>**\n",
    "\n",
    "[//]: # (Please do not delete this comment or anything above it.  Anything below this comment can be deleted.)  \n",
    "\n",
    "Double click this cell and enter your text here.  When done, hit 'Shift' + 'Enter' to execute the cell.  You may delete this text when entering your answer. "
   ]
  },
  {
   "cell_type": "markdown",
   "id": "4820fe7a",
   "metadata": {
    "deletable": false,
    "editable": false
   },
   "source": [
    "<!-- END QUESTION -->\n",
    "\n",
    "---\n",
    "\n",
    "To double-check your work, the cell below will rerun all of the autograder tests."
   ]
  },
  {
   "cell_type": "code",
   "execution_count": null,
   "id": "83132c61-58f6-445a-b5fe-f6815a113330",
   "metadata": {
    "deletable": false,
    "editable": false,
    "tags": []
   },
   "outputs": [],
   "source": [
    "grader.check_all()"
   ]
  },
  {
   "cell_type": "markdown",
   "id": "c5dc43de",
   "metadata": {
    "deletable": false,
    "editable": false,
    "tags": []
   },
   "source": [
    "***\n",
    "\n",
    "## Submission\n",
    "\n",
    "Make sure you have run all cells in your notebook in order before running the cell below, so that all images/graphs appear in the output. The cell below will generate a zip file for you to submit. **Please save before exporting!**\n",
    "\n",
    "Once you've completed this notebook:\n",
    "- Save your work.\n",
    "- Run 'grader.export()' to generate a .zip file containing all of the materials that you will submit.\n",
    "- Download the generated .zip file.\n",
    "- Upload the .zip file to the PHYS 121 Lab Canvas gradebook.\n",
    "- **Do NOT change the number of the .zip file.**\n",
    "- **Do NOT modify the contents of the .zip file.**\n",
    "\n",
    "Here is a <a href = \"https://raw.githubusercontent.com/UBC-Okanagan-Physics-Labs/PHYS-121-images/main/general/gifs/Submission.gif\">GIF</a> showing how these steps are completed.  Once your completed notebook has been uploaded to the Canvas gradebook, you're done!"
   ]
  },
  {
   "cell_type": "code",
   "execution_count": null,
   "id": "aba239b7",
   "metadata": {
    "deletable": false,
    "editable": false,
    "tags": []
   },
   "outputs": [],
   "source": [
    "# Save your notebook first, then run this cell (place your cursor in the cell and then hit Shift + Enter) to export \n",
    "# your submission.  Uploaded the .zip file that is generated to the gradebook of the Canvas shell for the PHYS 121 lab.\n",
    "grader.export(files = ['Prelab_8_Data.txt', 'PHYS121_DataLogger.txt'])"
   ]
  },
  {
   "cell_type": "markdown",
   "id": "3374f1d0",
   "metadata": {
    "deletable": false,
    "editable": false,
    "tags": []
   },
   "source": [
    "# <div style=\"background-color:rgba(255, 204, 255, 0.5); text-align:center; vertical-align: middle; padding:40px 0; margin-top:30px\"><span style=\"color:rgba(102, 0, 204, 1);\">Playground (optional)</span></div>\n",
    "\n",
    "Feel free to add as many cells as you like below and use them as a playground for further independent investigations.  These cells won't be graded, so feel free to use them in any way that you like.  For example, you could compare Gaussian distributions with different standard deviations and/or means. "
   ]
  },
  {
   "cell_type": "code",
   "execution_count": null,
   "id": "a730d1b2",
   "metadata": {},
   "outputs": [],
   "source": [
    "# Here's an empty code cell that you can use.\n"
   ]
  },
  {
   "cell_type": "code",
   "execution_count": null,
   "id": "5534858e",
   "metadata": {},
   "outputs": [],
   "source": [
    "# Here's another empty code cell that you can use.\n"
   ]
  },
  {
   "cell_type": "code",
   "execution_count": null,
   "id": "1cc36be2",
   "metadata": {},
   "outputs": [],
   "source": [
    "# Here's yet another empty code cell that you can use.  \n",
    "# If you need more, you can add cells using the '+' icon in the menu bar at to the top of the screen.\n"
   ]
  },
  {
   "cell_type": "code",
   "execution_count": null,
   "id": "802d09f6",
   "metadata": {},
   "outputs": [],
   "source": [
    "# Here's yet another empty code cell that you can use.  \n",
    "# If you need more, you can add cells using the '+' icon in the menu bar at to the top of the screen.\n"
   ]
  },
  {
   "cell_type": "markdown",
   "id": "29d5fac0-a1f4-4d53-8e46-14e3ed46f30b",
   "metadata": {
    "deletable": false,
    "editable": false,
    "tags": []
   },
   "source": [
    "### <div style=\"background-color:rgba(255, 255, 102, 0.5); text-align:left; padding:20px 0; margin-top:20px\">$\\quad$Appendix A &ndash; The MultiScatter Function...</div>\n",
    "\n",
    "The function for generating multiple scatter plots on a single graph is called as follows:\n",
    "```python\n",
    "MultiScatter(DataArray, xlabel = 'x-axis', ylabel = 'y-axis', xUnits = '', yUnits = '')\n",
    "```\n",
    "The 'DataArray' input is required, all other arguments are optional with default values set.  The function returns the a single output (the formatted plot):\n",
    "```python\n",
    "fig\n",
    "```\n",
    "\n",
    "DataArray takes the form of nested lists: DataArray = [[x1, y1, dy1], [x2, y2], [x3, y3, dy3], ...], where x1, y1, dy1, x2, y2, ... are themselves lists.  Notice that each sublist ([x1, y1, dy1] or [x2, y2]) can be either two or three elements long.  If the sublist contains three elements, a scatter plot with error bars will be generated.  If the sublist contains only two elements, a scatter plot with no error bars will be generated.  'DataArray' can mix sublists with two and three elements.\n",
    "\n",
    "### MultiScatter Example Implmentation\n",
    "The code block below shows an implementation of 'MultiScatter'.\n",
    "```python\n",
    "import PHYS121\n",
    "V1 = [1, 2, 3, 4]\n",
    "I1 = [0.12, 0.198, 0.285, 0.412]\n",
    "errI1 = [0.005, 0.012, 0.020, 0.025]\n",
    "\n",
    "V2 = [1, 2, 3, 4, 5]\n",
    "I2 = [0.25, 0.31, 0.405, 0.602, .682]\n",
    "\n",
    "V3 = [1, 2, 3, 4]\n",
    "I3 = [0.05, 0.11, 0.155, 0.252]\n",
    "errI3 = [0.005, 0.012, 0.020, 0.025]\n",
    "\n",
    "V4 = np.array([1.5, 2.5, 3.5, 4.5])\n",
    "I4 = [0.05, -0.11, -0.155, -.23]\n",
    "\n",
    "DataArray = [[V1, I1, errI1], [V2, I2], [V3, I3, errI3], [V4, I4]]\n",
    "\n",
    "fig = PHYS121.MultiScatter(DataArray, 'time', 'position', 's', 'cm');\n",
    "```\n",
    "\n",
    "The example above is demonstrated in the code cell below.  Instead of entering the data using comma-separated lists, the data_entry function will be used to generate the required vectors.  The 'fig = ...' syntax is used to store the figure that is produced in a varible called 'fig'.\n",
    "***"
   ]
  },
  {
   "cell_type": "markdown",
   "id": "26433822-28b1-47bb-98e0-e695b46354d1",
   "metadata": {
    "deletable": false,
    "editable": false,
    "tags": []
   },
   "source": [
    "### <div style=\"background-color:rgba(255, 255, 102, 0.5); text-align:left; padding:20px 0; margin-top:20px\">$\\quad$Appendix B &ndash; The Sine Function...</div>\n",
    "\n",
    "The function fitting data to a sinusoidal function of the form:\n",
    "$$\n",
    "y = A\\sin\\left(\\frac{2\\pi}{T} x +\\phi\\right)\n",
    "$$\n",
    "is called as follows:\n",
    "```python\n",
    "Sine(xData, yData, yErrors = [], xlabel = 'x-axis', ylabel = 'y-axis', xUnits = '', yUnits = '')\n",
    "```\n",
    "The xData and yData lists are required.  The others are optional with default values set.  The function returns the following outputs:\n",
    "```python\n",
    "A, T, phi, errA, errT, errPhi, fig\n",
    "```\n",
    "The first six outputs are numerical values and 'fig' is the formatted plot. \n",
    "\n",
    "If $y$-uncertainities are provided, the function will perform a weighted fit.  The $y$-uncertainties list must be the same length as $x$- and $y$-data lists.  If $y$-uncertainties are not provided, the fit will be unweighted.  The other optional arguments include $x$- and $y$-axis names and units for the $x$- and $y$-datasets.  These must be entered as strings (enclosed in quotations) and they are used for formatting the outputs of the function.  \n",
    "\n",
    "### Unweighted Fit Example Implmentation\n",
    "The code block below shows the most basic use of 'Sine' for an unweighted fit without any of the optional arguments.\n",
    "```python\n",
    "import PHYS121\n",
    "x = [1, 2, 3, 4]\n",
    "y = [0.12, 0.198, 0.285, 0.412]\n",
    "A, T, phi, dA, dT, dPhi, fig = PHYS121.Sine(x, y)\n",
    "```\n",
    "\n",
    "### Weighted Fit Example Implmentation\n",
    "This second blcok of code shows how to use 'Sine' to do a weighted fit.  It also makes use of all of the other optional arguments.  \n",
    "```python\n",
    "import PHYS121\n",
    "x = [1, 2, 3, 4]\n",
    "y = [0.12, 0.198, 0.285, 0.412]\n",
    "erry = [0.005, 0.012, 0.020, 0.025]\n",
    "A, T, phi, dA, dT, dPhi, fig = PHYS121.Sine(x, y, erry, 'position' , 'time', 'cm', 's')\n",
    "```\n",
    "***"
   ]
  },
  {
   "cell_type": "markdown",
   "id": "3eeba353-55a1-427c-b2dc-2af802ab4b8b",
   "metadata": {
    "deletable": false,
    "editable": false,
    "tags": []
   },
   "source": [
    "<img src=\"https://raw.githubusercontent.com/UBC-Okanagan-Physics-Labs/PHYS-121-images/main/general/images/ubc-logo-full.jpg\" width=\"500\"/>"
   ]
  },
  {
   "cell_type": "markdown",
   "id": "25bd16ec",
   "metadata": {},
   "source": [
    "Last update: March 19, 2024"
   ]
  }
 ],
 "metadata": {
  "kernelspec": {
   "display_name": "Python 3 (ipykernel)",
   "language": "python",
   "name": "python3"
  },
  "language_info": {
   "codemirror_mode": {
    "name": "ipython",
    "version": 3
   },
   "file_extension": ".py",
   "mimetype": "text/x-python",
   "name": "python",
   "nbconvert_exporter": "python",
   "pygments_lexer": "ipython3",
   "version": "3.10.6"
  },
  "otter": {
   "OK_FORMAT": true,
   "tests": {
    "q0.1": {
     "name": "q0.1",
     "points": null,
     "suites": [
      {
       "cases": [
        {
         "code": ">>> import sys\n>>> 'PHYS121' in sys.modules\nTrue",
         "failure_message": "Make sure you execute the cells containing \"import PHYS121\" and \"import otter\" as well as the cell beneath the heading \"Import Modules\".",
         "hidden": false,
         "locked": false,
         "points": 0
        }
       ],
       "scored": true,
       "setup": "",
       "teardown": "",
       "type": "doctest"
      }
     ]
    },
    "q1.2": {
     "name": "q1.2",
     "points": null,
     "suites": [
      {
       "cases": [
        {
         "code": ">>> np.isclose(rB, np.average(np.sqrt(df['xB'] ** 2 + df['yB'] ** 2)), rtol=0.001)\nTrue",
         "failure_message": "Please check your calculation of rB.",
         "hidden": false,
         "locked": false,
         "points": 0.5
        },
        {
         "code": ">>> np.isclose(drB, np.std(np.sqrt(df['xB'] ** 2 + df['yB'] ** 2)) / np.sqrt(len(df['xB'])), rtol=0.001)\nTrue",
         "failure_message": "Please check your calculation of drB.",
         "hidden": false,
         "locked": false,
         "points": 0.5
        }
       ],
       "scored": true,
       "setup": "",
       "teardown": "",
       "type": "doctest"
      }
     ]
    }
   }
  }
 },
 "nbformat": 4,
 "nbformat_minor": 5
}
